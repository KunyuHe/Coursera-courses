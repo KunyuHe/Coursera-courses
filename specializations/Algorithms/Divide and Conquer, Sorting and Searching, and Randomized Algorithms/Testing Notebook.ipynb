{
 "cells": [
  {
   "cell_type": "code",
   "execution_count": 1,
   "metadata": {
    "ExecuteTime": {
     "end_time": "2019-10-27T18:18:42.599444Z",
     "start_time": "2019-10-27T18:18:42.597448Z"
    }
   },
   "outputs": [],
   "source": [
    "import sys\n",
    "\n",
    "sys.path.append(\"Algorithms Implementation/\")"
   ]
  },
  {
   "cell_type": "code",
   "execution_count": 2,
   "metadata": {
    "ExecuteTime": {
     "end_time": "2019-10-27T18:18:43.720762Z",
     "start_time": "2019-10-27T18:18:42.751005Z"
    }
   },
   "outputs": [],
   "source": [
    "from nose.tools import assert_equal\n",
    "import numpy as np"
   ]
  },
  {
   "cell_type": "code",
   "execution_count": 3,
   "metadata": {
    "ExecuteTime": {
     "end_time": "2019-10-27T18:18:43.809703Z",
     "start_time": "2019-10-27T18:18:43.722755Z"
    }
   },
   "outputs": [],
   "source": [
    "%load_ext autoreload\n",
    "%autoreload 2"
   ]
  },
  {
   "cell_type": "markdown",
   "metadata": {},
   "source": [
    "## Karatsuba Integer Multiplication"
   ]
  },
  {
   "cell_type": "code",
   "execution_count": 4,
   "metadata": {
    "ExecuteTime": {
     "end_time": "2019-10-27T18:18:43.894345Z",
     "start_time": "2019-10-27T18:18:43.811550Z"
    }
   },
   "outputs": [],
   "source": [
    "from KarastubaMultiplication import karatsuba"
   ]
  },
  {
   "cell_type": "code",
   "execution_count": 5,
   "metadata": {
    "ExecuteTime": {
     "end_time": "2019-10-27T18:18:43.980116Z",
     "start_time": "2019-10-27T18:18:43.895295Z"
    }
   },
   "outputs": [],
   "source": [
    "class KaratsubaTest(object):\n",
    "    \n",
    "    def test(self, sol):\n",
    "        # basic\n",
    "        assert_equal(sol(1234, 5678), 1234*5678)\n",
    "\n",
    "        # single digit\n",
    "        assert_equal(sol(0, 1), 0*1)\n",
    "\n",
    "        # large numbers\n",
    "        assert_equal(sol(999999999999999999, 123123123123123123),\n",
    "                     999999999999999999*123123123123123123)\n",
    "\n",
    "        # number of digit is odd\n",
    "        assert_equal(sol(99999, 22222), 99999*22222)\n",
    "        \n",
    "        # different number of digits\n",
    "        assert_equal(sol(999, 22222), 999*22222)\n",
    "\n",
    "        print(\"ALL TEST CASES PASSED\")"
   ]
  },
  {
   "cell_type": "code",
   "execution_count": 6,
   "metadata": {
    "ExecuteTime": {
     "end_time": "2019-10-27T18:18:44.067856Z",
     "start_time": "2019-10-27T18:18:43.982062Z"
    }
   },
   "outputs": [
    {
     "name": "stdout",
     "output_type": "stream",
     "text": [
      "ALL TEST CASES PASSED\n"
     ]
    }
   ],
   "source": [
    "KaratsubaTest().test(karatsuba)"
   ]
  },
  {
   "cell_type": "markdown",
   "metadata": {},
   "source": [
    "### Programming Assignment Week 1"
   ]
  },
  {
   "cell_type": "code",
   "execution_count": 7,
   "metadata": {
    "ExecuteTime": {
     "end_time": "2019-10-27T18:18:44.159588Z",
     "start_time": "2019-10-27T18:18:44.068857Z"
    }
   },
   "outputs": [
    {
     "data": {
      "text/plain": [
       "8539734222673567065463550869546574495034888535765114961879601127067743044893204848617875072216249073013374895871952806582723184"
      ]
     },
     "execution_count": 7,
     "metadata": {},
     "output_type": "execute_result"
    }
   ],
   "source": [
    "karatsuba(3141592653589793238462643383279502884197169399375105820974944592,\n",
    "          2718281828459045235360287471352662497757247093699959574966967627)"
   ]
  },
  {
   "cell_type": "markdown",
   "metadata": {},
   "source": [
    "## Merge Sort"
   ]
  },
  {
   "cell_type": "code",
   "execution_count": 8,
   "metadata": {
    "ExecuteTime": {
     "end_time": "2019-10-27T18:18:44.247406Z",
     "start_time": "2019-10-27T18:18:44.161584Z"
    }
   },
   "outputs": [],
   "source": [
    "from MergeSort import mergeSort"
   ]
  },
  {
   "cell_type": "code",
   "execution_count": 9,
   "metadata": {
    "ExecuteTime": {
     "end_time": "2019-10-27T18:18:44.432856Z",
     "start_time": "2019-10-27T18:18:44.348084Z"
    }
   },
   "outputs": [
    {
     "data": {
      "text/plain": [
       "[510,\n",
       " 365,\n",
       " 382,\n",
       " 322,\n",
       " 988,\n",
       " 98,\n",
       " 742,\n",
       " 17,\n",
       " 595,\n",
       " 106,\n",
       " 123,\n",
       " 569,\n",
       " 214,\n",
       " 737,\n",
       " 96,\n",
       " 113,\n",
       " 638,\n",
       " 47,\n",
       " 73,\n",
       " 544]"
      ]
     },
     "execution_count": 9,
     "metadata": {},
     "output_type": "execute_result"
    }
   ],
   "source": [
    "np.random.seed(123)\n",
    "input_lst = np.random.randint(0, 999, 10000).tolist()\n",
    "input_lst[:20]"
   ]
  },
  {
   "cell_type": "code",
   "execution_count": 10,
   "metadata": {
    "ExecuteTime": {
     "end_time": "2019-10-27T18:18:44.644292Z",
     "start_time": "2019-10-27T18:18:44.514638Z"
    }
   },
   "outputs": [
    {
     "name": "stdout",
     "output_type": "stream",
     "text": [
      "Test case passed. Large input size and with repetition.\n"
     ]
    }
   ],
   "source": [
    "if mergeSort(input_lst) == sorted(input_lst):\n",
    "    print(\"Test case passed. Large input size and with repetition.\")"
   ]
  },
  {
   "cell_type": "markdown",
   "metadata": {},
   "source": [
    "## Counting Inversions with Merge Sort"
   ]
  },
  {
   "cell_type": "code",
   "execution_count": 11,
   "metadata": {
    "ExecuteTime": {
     "end_time": "2019-10-27T18:18:45.230451Z",
     "start_time": "2019-10-27T18:18:45.146500Z"
    }
   },
   "outputs": [],
   "source": [
    "from CountInversions import countInversions"
   ]
  },
  {
   "cell_type": "code",
   "execution_count": 12,
   "metadata": {
    "ExecuteTime": {
     "end_time": "2019-10-27T18:18:45.486622Z",
     "start_time": "2019-10-27T18:18:45.401817Z"
    }
   },
   "outputs": [
    {
     "data": {
      "text/plain": [
       "([1, 1, 2, 3, 4, 5, 6], 8)"
      ]
     },
     "execution_count": 12,
     "metadata": {},
     "output_type": "execute_result"
    }
   ],
   "source": [
    "countInversions([1, 3, 5, 2, 4, 6, 1])"
   ]
  },
  {
   "cell_type": "markdown",
   "metadata": {},
   "source": [
    "### Testing"
   ]
  },
  {
   "cell_type": "code",
   "execution_count": 13,
   "metadata": {
    "ExecuteTime": {
     "end_time": "2019-10-27T18:18:45.951995Z",
     "start_time": "2019-10-27T18:18:45.842274Z"
    }
   },
   "outputs": [],
   "source": [
    "with open ('data/IntegerArray.txt') as f:\n",
    "    arr = [int(i) for i in f.read().splitlines()]"
   ]
  },
  {
   "cell_type": "code",
   "execution_count": 14,
   "metadata": {
    "ExecuteTime": {
     "end_time": "2019-10-27T18:18:46.802681Z",
     "start_time": "2019-10-27T18:18:46.043711Z"
    }
   },
   "outputs": [
    {
     "data": {
      "text/plain": [
       "2407905288"
      ]
     },
     "execution_count": 14,
     "metadata": {},
     "output_type": "execute_result"
    }
   ],
   "source": [
    "countInversions(arr)[1]"
   ]
  },
  {
   "cell_type": "markdown",
   "metadata": {},
   "source": [
    "## Quick Sort"
   ]
  },
  {
   "cell_type": "code",
   "execution_count": 121,
   "metadata": {
    "ExecuteTime": {
     "end_time": "2019-10-27T20:58:50.976252Z",
     "start_time": "2019-10-27T20:58:50.888389Z"
    }
   },
   "outputs": [],
   "source": [
    "from QuickSort import quickSort, countComparisons, getPivot, CNT"
   ]
  },
  {
   "cell_type": "code",
   "execution_count": 122,
   "metadata": {
    "ExecuteTime": {
     "end_time": "2019-10-27T20:58:51.232462Z",
     "start_time": "2019-10-27T20:58:51.144696Z"
    },
    "scrolled": false
   },
   "outputs": [
    {
     "data": {
      "text/plain": [
       "[1, 2, 3, 4, 5, 6, 7, 8, 9, 10]"
      ]
     },
     "execution_count": 122,
     "metadata": {},
     "output_type": "execute_result"
    }
   ],
   "source": [
    "arr = [8, 2, 5, 1, 4, 7, 6, 10, 3, 9]\n",
    "quickSort(arr, 0, len(arr), \"Median\")\n",
    "arr"
   ]
  },
  {
   "cell_type": "markdown",
   "metadata": {},
   "source": [
    "### Testing"
   ]
  },
  {
   "cell_type": "code",
   "execution_count": 123,
   "metadata": {
    "ExecuteTime": {
     "end_time": "2019-10-27T20:58:51.692968Z",
     "start_time": "2019-10-27T20:58:51.604924Z"
    }
   },
   "outputs": [],
   "source": [
    "from copy import deepcopy\n",
    "from math import log2\n",
    "\n",
    "with open ('data/QuickSort.txt') as f:\n",
    "    arr = [int(i) for i in f.read().splitlines()]"
   ]
  },
  {
   "cell_type": "code",
   "execution_count": 124,
   "metadata": {
    "ExecuteTime": {
     "end_time": "2019-10-27T20:58:52.154488Z",
     "start_time": "2019-10-27T20:58:52.040793Z"
    },
    "scrolled": false
   },
   "outputs": [
    {
     "data": {
      "text/plain": [
       "162085"
      ]
     },
     "execution_count": 124,
     "metadata": {},
     "output_type": "execute_result"
    }
   ],
   "source": [
    "countComparisons(deepcopy(arr))"
   ]
  },
  {
   "cell_type": "code",
   "execution_count": 125,
   "metadata": {
    "ExecuteTime": {
     "end_time": "2019-10-27T20:58:52.395527Z",
     "start_time": "2019-10-27T20:58:52.280834Z"
    }
   },
   "outputs": [
    {
     "data": {
      "text/plain": [
       "164123"
      ]
     },
     "execution_count": 125,
     "metadata": {},
     "output_type": "execute_result"
    }
   ],
   "source": [
    "countComparisons(deepcopy(arr), rule=\"Last\")"
   ]
  },
  {
   "cell_type": "code",
   "execution_count": 126,
   "metadata": {
    "ExecuteTime": {
     "end_time": "2019-10-27T20:58:53.692932Z",
     "start_time": "2019-10-27T20:58:53.578236Z"
    }
   },
   "outputs": [
    {
     "data": {
      "text/plain": [
       "138382"
      ]
     },
     "execution_count": 126,
     "metadata": {},
     "output_type": "execute_result"
    }
   ],
   "source": [
    "countComparisons(deepcopy(arr), rule=\"Median\")"
   ]
  },
  {
   "cell_type": "code",
   "execution_count": null,
   "metadata": {},
   "outputs": [],
   "source": []
  }
 ],
 "metadata": {
  "kernelspec": {
   "display_name": "Python 3",
   "language": "python",
   "name": "python3"
  },
  "language_info": {
   "codemirror_mode": {
    "name": "ipython",
    "version": 3
   },
   "file_extension": ".py",
   "mimetype": "text/x-python",
   "name": "python",
   "nbconvert_exporter": "python",
   "pygments_lexer": "ipython3",
   "version": "3.7.3"
  },
  "latex_envs": {
   "LaTeX_envs_menu_present": true,
   "autoclose": false,
   "autocomplete": true,
   "bibliofile": "biblio.bib",
   "cite_by": "apalike",
   "current_citInitial": 1,
   "eqLabelWithNumbers": true,
   "eqNumInitial": 1,
   "hotkeys": {
    "equation": "Ctrl-E",
    "itemize": "Ctrl-I"
   },
   "labels_anchors": false,
   "latex_user_defs": false,
   "report_style_numbering": false,
   "user_envs_cfg": false
  },
  "toc": {
   "base_numbering": 1,
   "nav_menu": {},
   "number_sections": false,
   "sideBar": true,
   "skip_h1_title": false,
   "title_cell": "Table of Contents",
   "title_sidebar": "Contents",
   "toc_cell": false,
   "toc_position": {},
   "toc_section_display": true,
   "toc_window_display": true
  }
 },
 "nbformat": 4,
 "nbformat_minor": 2
}
